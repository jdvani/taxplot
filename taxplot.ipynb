{
 "cells": [
  {
   "cell_type": "markdown",
   "metadata": {},
   "source": [
    "#### New to Plotly?\n",
    "Plotly's Python library is free and open source! [Get started](https://plot.ly/python/getting-started/) by downloading the client and [reading the primer](https://plot.ly/python/getting-started/).\n",
    "<br>You can set up Plotly to work in [online](https://plot.ly/python/getting-started/#initialization-for-online-plotting) or [offline](https://plot.ly/python/getting-started/#initialization-for-offline-plotting) mode, or in [jupyter notebooks](https://plot.ly/python/getting-started/#start-plotting-online).\n",
    "<br>We also have a quick-reference [cheatsheet](https://images.plot.ly/plotly-documentation/images/python_cheat_sheet.pdf) (new!) to help you get started!"
   ]
  },
  {
   "cell_type": "code",
   "execution_count": 3,
   "metadata": {},
   "outputs": [],
   "source": [
    "import plotly \n",
    "plotly.tools.set_credentials_file(username='jdvani', api_key='HFFOXfo7MW00ADqPSsdc')"
   ]
  },
  {
   "cell_type": "markdown",
   "metadata": {
    "collapsed": true
   },
   "source": [
    "#### Line Plot"
   ]
  },
  {
   "cell_type": "code",
   "execution_count": 6,
   "metadata": {},
   "outputs": [
    {
     "data": {
      "text/html": [
       "<iframe id=\"igraph\" scrolling=\"no\" style=\"border:none;\" seamless=\"seamless\" src=\"https://plot.ly/~jdvani/34.embed\" height=\"525px\" width=\"100%\"></iframe>"
      ],
      "text/plain": [
       "<plotly.tools.PlotlyDisplay object>"
      ]
     },
     "execution_count": 6,
     "metadata": {},
     "output_type": "execute_result"
    }
   ],
   "source": [
    "import plotly.plotly as py\n",
    "import plotly.graph_objs as go\n",
    "import numpy as np\n",
    "\n",
    "# Function to calculate average tax rate percentage given taxable income\n",
    "def f(x):\n",
    "    a = [0, 11809, 18915, 46605, 93208, 128145, 144489, 153773, 205031, 205842, 307547]\n",
    "    b = [0, 0.15, 0.25, 0.305, 0.36, 0.38, 0.41, 0.42, 0.43, 0.47, 0.48]\n",
    "    c = [0, 0]\n",
    "\n",
    "    for i in range(len(b)-2):\n",
    "        c.append((a[i+2]-a[i+1])*b[i+1]+c[i+1])\n",
    "        \n",
    "    if x <= 0:\n",
    "        return 0\n",
    "    else:       \n",
    "        bracket_index = -1\n",
    "        for i in range(len(a)):\n",
    "            if x > a[i]:\n",
    "                bracket_index = bracket_index + 1\n",
    "        tax_amount = c[bracket_index] + b[bracket_index]*(x-a[bracket_index])\n",
    "        return tax_amount/x\n",
    "     \n",
    "income = np.arange(0, 10000000, 1000)\n",
    "# average_rate = np.random.randn(N)\n",
    "\n",
    "average_rate = []\n",
    "for i in range(len(income)): \n",
    "    average_rate.append(f(income[i]))\n",
    "\n",
    "trace = go.Scatter(\n",
    "    x = income,\n",
    "    y = average_rate,\n",
    "    mode = 'lines',\n",
    "    name = 'lines',\n",
    "    fill='tozeroy',\n",
    ")\n",
    "\n",
    "layout = go.Layout(\n",
    "    xaxis=dict(\n",
    "        range=[0, 500000],\n",
    "        showgrid=True,\n",
    "        zeroline=True,\n",
    "        showline=True,\n",
    "        mirror='ticks',\n",
    "        title='Taxable income'\n",
    "    ),\n",
    "    yaxis=dict(\n",
    "        range=[0, 1],\n",
    "        showgrid=True,\n",
    "        zeroline=True,\n",
    "        showline=True,\n",
    "        mirror='ticks',\n",
    "        tickformat='.0%',\n",
    "        hoverformat='.1%',\n",
    "        title='Income tax as % of taxable income'\n",
    "    )\n",
    ")\n",
    "\n",
    "data = [trace]\n",
    "fig = go.Figure(data=data, layout=layout)\n",
    "\n",
    "py.iplot(fig, filename='taxplot')"
   ]
  },
  {
   "cell_type": "markdown",
   "metadata": {},
   "source": [
    "### Reference"
   ]
  },
  {
   "cell_type": "markdown",
   "metadata": {},
   "source": [
    "See https://plot.ly/python/reference/#scatter or https://plot.ly/python/reference/#scattergl for more information and chart attribute options!"
   ]
  },
  {
   "cell_type": "code",
   "execution_count": null,
   "metadata": {},
   "outputs": [],
   "source": []
  }
 ],
 "metadata": {
  "anaconda-cloud": {},
  "kernelspec": {
   "display_name": "Python 3",
   "language": "python",
   "name": "python3"
  },
  "language_info": {
   "codemirror_mode": {
    "name": "ipython",
    "version": 3
   },
   "file_extension": ".py",
   "mimetype": "text/x-python",
   "name": "python",
   "nbconvert_exporter": "python",
   "pygments_lexer": "ipython3",
   "version": "3.7.0"
  }
 },
 "nbformat": 4,
 "nbformat_minor": 1
}
